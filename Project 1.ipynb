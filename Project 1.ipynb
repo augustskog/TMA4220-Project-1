{
 "cells": [
  {
   "cell_type": "code",
   "execution_count": 1,
   "metadata": {},
   "outputs": [],
   "source": [
    "import numpy as np\n",
    "import matplotlib.pyplot as plt\n",
    "import random"
   ]
  },
  {
   "cell_type": "markdown",
   "metadata": {},
   "source": [
    "# Project 1 "
   ]
  },
  {
   "cell_type": "markdown",
   "metadata": {},
   "source": [
    "## 1 One dimensional problem"
   ]
  },
  {
   "cell_type": "markdown",
   "metadata": {},
   "source": [
    "### 1.1 "
   ]
  },
  {
   "cell_type": "markdown",
   "metadata": {},
   "source": [
    "We are asked to create a function called \"computeIntegral1D\" which takes in the following arguments:\n",
    "* $x_{i-1}, x_i$: the two values defining the integration interval,\n",
    "* $g$: a function you want to integrate over the interval,\n",
    "* $s$: type of Gaussian quadrature rule used to approximate the integral, $s = 0$ for Gaussian-Legendre and $s = 1$ for Gaussian-Lobatto\n",
    "\n",
    "We want to use this function to compute the following approximations:\n",
    "* Gaussian-Legendre quadrature\n",
    "$$\n",
    "I \\approx \\frac{h_i}{2} \\lbrack g(-\\frac{h_i}{2\\sqrt{3}}+\\frac{x_{i-1}+x_i}{2}) + g(\\frac{h_i}{2\\sqrt{3}}+\\frac{x_{i-1}+x_i}{2}) \\rbrack\n",
    "$$\n",
    "\n",
    "* Gaussian-Lobatto quadrature\n",
    "\n",
    "$$\n",
    "I \\approx \\frac{h_i}{2} \\lbrack \\frac{1}{3} g(-\\frac{h_i}{2}+\\frac{x_{i-1}+x_i}{2}+\\frac{4}{3}g(\\frac{x_{i-1}+x_i}{2})+\\frac{1}{3}g(\\frac{h_i}{2}+\\frac{x_{i-1}+x_i}{2}))\n",
    "$$"
   ]
  },
  {
   "cell_type": "code",
   "execution_count": 2,
   "metadata": {},
   "outputs": [],
   "source": [
    "def computeIntegral1D(a,b,func,type=0):\n",
    "    \"\"\"_summary_\n",
    "\n",
    "    Args:\n",
    "        a (float): start of integraion intervall\n",
    "        b (float): end of integraion intervall\n",
    "        func (function): function we want to integrate\n",
    "        type (int, optional): what \n",
    "\n",
    "    Returns:\n",
    "        approx(float) : value of integral\n",
    "    \"\"\"\n",
    "    h=b-a\n",
    "    if type==0:\n",
    "        approx = h/2 * (func(-h/(2*np.sqrt(3)) + (a+b)/2,a,b) + func(h/(2*np.sqrt(3)) +(a+b)/2,a,b))\n",
    "    else: \n",
    "        approx = h/2 * (1/3*func(-h/2 + (a+b)/2,a,b) + 4/3*func((a+b)/2,a,b) + 1/3*func(h/2+(a+b)/2,a,b))\n",
    "    return approx"
   ]
  },
  {
   "cell_type": "markdown",
   "metadata": {},
   "source": [
    "We are asked to verify that the approximation formula is correct for polynomials of degree 3 or lower. We do this by caluclating the exact integral of a 3. degree polynomial on the intervall a to b, and compare analytical value to the approximation. The exact solution to the integral of a third degree polynomial - $p_3(x)$ - on the intervall $[a,b]$ is caluculated below.\n",
    "\n",
    "$$\n",
    "p_3(x) = c_3x^3 + c_2x^2 + c_1x + c_0\n",
    "$$\n",
    "\n",
    "$$\n",
    "\\begin{align}\n",
    "\\int_a^bp_3(x)dx =& \\int_a^b  c_3x^3 + c_2x^2 + c_1x + c_0 \\\\ \n",
    "=& \\lbrack \\frac{c_3x^4}{4} + \\frac{c_2x^3}{3} + \\frac{c_1x^2}{2} + c_0x \\rbrack^b_a \\\\ \n",
    "=& [\\frac{c_3b^4}{4} + \\frac{c_2b^3}{3} + \\frac{c_1b^2}{2} + c_0b] \\\\ \n",
    "-& [\\frac{c_3a^4}{4} + \\frac{c_2a^3}{3} + \\frac{c_1a^2}{2} + c_0a]\n",
    "\\end{align}\n",
    "$$"
   ]
  },
  {
   "cell_type": "code",
   "execution_count": 3,
   "metadata": {},
   "outputs": [],
   "source": [
    "def intPol3(c3, c2, c1, c0, a, b):\n",
    "    \"\"\"_summary_\n",
    "\n",
    "    Args:\n",
    "        c3 (float): coefficent for x^3\n",
    "        c2 (float): coefficent for x^2\n",
    "        c1 (float): coefficent for x\n",
    "        c0 (float): constant\n",
    "        a (float): start of intervall\n",
    "        b (float): end of intervall\n",
    "\n",
    "    Returns:\n",
    "        (function): exact solution to integral of 3. degree polynomail on [a,b]\n",
    "    \"\"\"\n",
    "    return c3*b**4/4 + c2*b**3/3 + c1*b**2/2 + c0*b - (c3*a**4/4 + c2*a**3/3 + c1*a**2/2 + c0*a) \n",
    "\n",
    "\n",
    "def verifyPrecision(c3, c2, c1,c0, a, b, tol):\n",
    "    \"\"\"_summary_\n",
    "\n",
    "    Args:\n",
    "        c3 (float): coefficent for x^3\n",
    "        c2 (float): coefficent for x^2\n",
    "        c1 (float): coefficent for x\n",
    "        c0 (float): constant\n",
    "        a (float): start of intervall\n",
    "        b (float): end of intervall\n",
    "        tol (float): _tolerance of error between exact and approximate value of intervall\n",
    "    \"\"\"\n",
    "    def testPolynomial(x,a,b):\n",
    "        return c3*x**3 + c2*x**2 + c1*x + c0\n",
    "    \n",
    "    fApprox0 = computeIntegral1D(a,b, testPolynomial, 0)\n",
    "    fApprox1 = computeIntegral1D(a,b, testPolynomial, 1)\n",
    "    fExact = intPol3(c3, c2, c1, c0, a, b)\n",
    "    \n",
    "    if (fApprox0 - fExact < tol):\n",
    "        print(\"Gaussian-Legendre quadrature computes correct value\")\n",
    "        \n",
    "    if (fApprox1 - fExact < tol):\n",
    "        print(\"Gaussian-Lobatto quadrature computes correct value.\")\n",
    "    return; \n"
   ]
  },
  {
   "cell_type": "code",
   "execution_count": 4,
   "metadata": {},
   "outputs": [
    {
     "name": "stdout",
     "output_type": "stream",
     "text": [
      "Test for c3=c2=c1=c0=1, a=0, b=1, tol = 10^{-10}:\n",
      "Gaussian-Legendre quadrature computes correct value\n",
      "Gaussian-Lobatto quadrature computes correct value.\n",
      " \n",
      "Test for c3=0, c2=1, c1=2, c0=3, a=-3.6, b=14.7, tol = 10^{-10}:\n",
      "Gaussian-Legendre quadrature computes correct value\n",
      "Gaussian-Lobatto quadrature computes correct value.\n",
      " \n",
      "Test for c3=0.13, c2=0.85, c1=0.76, c0=0.26, a=0.5, b=0.45, tol = 10^-10:\n",
      "Gaussian-Legendre quadrature computes correct value\n",
      "Gaussian-Lobatto quadrature computes correct value.\n"
     ]
    }
   ],
   "source": [
    "tol = 10**(-10)\n",
    "print(r\"Test for c3=c2=c1=c0=1, a=0, b=1, tol = 10^{-10}:\")\n",
    "verifyPrecision(1,1,1,1,0,1,tol)\n",
    "print(\" \")\n",
    "print(r\"Test for c3=0, c2=1, c1=2, c0=3, a=-3.6, b=14.7, tol = 10^{-10}:\")\n",
    "verifyPrecision(0,1,2,3, -3.6,14.7, tol)\n",
    "print(\" \")\n",
    "\n",
    "random.seed(1)\n",
    "c3=random.random()\n",
    "c2=random.random()\n",
    "c1=random.random()\n",
    "c0=random.random()\n",
    "a=random.random()\n",
    "b=random.random()\n",
    "print(f\"Test for c3={round(c3,2)}, c2={round(c2,2)}, c1={round(c1,2)}, c0={round(c0,2)}, a={round(a,2)}, b={round(b,2)}, tol = 10^{-10}:\")\n",
    "verifyPrecision(c3,1,2,3, -3.6,14.7, tol)"
   ]
  },
  {
   "cell_type": "markdown",
   "metadata": {},
   "source": [
    "As we observe from the code chunk above, the function computes the correct values with a toleranse of $10^{-10}$.\n",
    "\n",
    "## Dette må nok endres på. Må spøre hvordan det man skal \"Verify\" resultatet"
   ]
  },
  {
   "cell_type": "markdown",
   "metadata": {},
   "source": [
    "### 1.2"
   ]
  },
  {
   "cell_type": "markdown",
   "metadata": {},
   "source": [
    "We are asked to create a function \"loadVector1D\" that takes the following input parameters: \n",
    "* mesh: a list/array containing the nodes of the mesh $\\mathcal{T_h}$,\n",
    "* $p \\in \\{1,2\\}$: this number determines if you use the finite-dimensional space $V_h^1$ or $V_h^2$, i.e. we have F for $V_h^p$\n",
    "* f: the function defining the right hand side of the problem initial problem\n",
    "* s : the type of Gaussian quadrature to approximate the needed integrals.\n",
    "\n",
    "The output of this function should be the load vector F. "
   ]
  },
  {
   "cell_type": "code",
   "execution_count": 5,
   "metadata": {},
   "outputs": [],
   "source": [
    "#Defining basis functions for P1 and P2\n",
    "\n",
    "\n",
    "def phi_0P1(x,a,b):\n",
    "    \"\"\"phi_0 for linear basis functions\n",
    "\n",
    "    Args:\n",
    "        x (float): value\n",
    "        a (float): start point for basis-function\n",
    "        b (float): end of basis-function \n",
    "\n",
    "    Returns:\n",
    "        (float): Value\n",
    "    \"\"\"\n",
    "    h=b-a\n",
    "    return (b-x)/h\n",
    "\n",
    "def phi_1P1(x,a,b):\n",
    "    h=b-a\n",
    "    return (x-a)/h\n",
    "\n",
    "def phi_0P2(x,a,b):\n",
    "    h=b-a\n",
    "    MP=(b+a)/2\n",
    "    return ((x-MP) * (x-a))/((b-MP) * (b-a))\n",
    "\n",
    "def phi_05P2(x,a,b):\n",
    "    h=b-a\n",
    "    MP=(b+a)/2\n",
    "    return ((x-a) * (x-b))/((MP-a) * (MP-b))\n",
    "\n",
    "def phi_1P2(x,a,b):\n",
    "    h=b-a\n",
    "    MP=(b+a)/2\n",
    "    return ((x-MP) * (x-a))/((b-MP) * (b-a))\n"
   ]
  },
  {
   "cell_type": "code",
   "execution_count": 6,
   "metadata": {},
   "outputs": [
    {
     "name": "stdout",
     "output_type": "stream",
     "text": [
      "[-0.03949653 -0.16319444 -0.07118056 -0.14236111 -0.05034722 -0.10069444\n",
      " -0.01909722 -0.03819444 -0.00043403]\n"
     ]
    }
   ],
   "source": [
    "s=0\n",
    "p=2\n",
    "n=5\n",
    "mesh = np.linspace(0,1,n)\n",
    "def testFunction(x):\n",
    "    return x**2-1\n",
    "\n",
    "\n",
    "\n",
    "\n",
    "def loadVector1D(mesh, p, func, s):\n",
    "     \"\"\" function that creates load vector\n",
    "\n",
    "    Args:\n",
    "        mesh (1D array): grid of omega\n",
    "        p (int): linear(1) or quadratic(2) basis function\n",
    "        func (function): function we use the functional on: F(func)\n",
    "        s (int): What integration method we will use (Gaussian-Legendre quadrature or Gaussian-Lobatto quadrature)  \n",
    "    Returns:\n",
    "        loadvector (array): load vector for given problem \n",
    "     \"\"\"     \n",
    "     if(p==1):\n",
    "          \n",
    "          def func0(x,a,b):\n",
    "               return phi_0P1(x,a,b)*func(x)\n",
    "     \n",
    "          def func1(x,a,b):\n",
    "               return phi_1P1(x,a,b)*func(x)\n",
    "          \n",
    "          loadVector = np.zeros(len(mesh))\n",
    "\n",
    "          for i in range(1,len(mesh)):\n",
    "               I1 = computeIntegral1D(mesh[i-1],mesh[i], func0, s,)\n",
    "               I2 = computeIntegral1D(mesh[i-1],mesh[i], func1, s)\n",
    "               loadVector[i-1] = loadVector[i-1] + I1\n",
    "               loadVector[i] = loadVector[i] + I2\n",
    "          \n",
    "     elif(p==2):\n",
    "          def func0(x,a,b):\n",
    "               return phi_0P2(x,a,b)*func(x)\n",
    "     \n",
    "          def func1(x,a,b):\n",
    "               return phi_1P2(x,a,b)*func(x)\n",
    "          \n",
    "          def func05(x,a,b):\n",
    "               return phi_05P2(x,a,b)*func(x)\n",
    "          \n",
    "          \n",
    "          m = len(mesh)\n",
    "          NewMesh = np.linspace(0,1,2*m-1)\n",
    "          loadVector = np.zeros(2*m-1)\n",
    "          \n",
    "          for i in range(0, m-1):\n",
    "               \n",
    "               #print(NewMesh[2*i],NewMesh[2*(i+1)])\n",
    "               I05 = computeIntegral1D(NewMesh[2*i],NewMesh[2*(i+1)], func05, s)\n",
    "               I1 = computeIntegral1D(NewMesh[2*i],NewMesh[2*(i+1)], func0, s)\n",
    "               I2 = computeIntegral1D(NewMesh[2*i],NewMesh[2*(i+1)], func1, s)\n",
    "               \n",
    "               loadVector[2*i]+=I1\n",
    "               loadVector[2*i+1]+=I05\n",
    "               loadVector[2*(i+1)]+=I2\n",
    "               \n",
    "     return loadVector\n",
    "\n",
    "print(loadVector1D(mesh, p, testFunction, s))"
   ]
  },
  {
   "cell_type": "markdown",
   "metadata": {},
   "source": [
    "### 1.3"
   ]
  },
  {
   "cell_type": "markdown",
   "metadata": {},
   "source": [
    "We are asked to implement a function loadMatrix1DLinear that assembles the the stifness matrix. The function should take the following input: \n",
    "\n",
    "* mesh: a list/array containing the nodes of the mesh $\\mathcal{T_h}$,\n",
    "* s : the type of Gaussian quadrature to approximate the needed integrals.\n",
    "\n",
    "and outputs: \n",
    "* the matrix A $\\in \\mathbb{R}^{(n+1)(n+1)}$ \n",
    "\n",
    "We begin by creating a function that solves this for the case $V^1_h$."
   ]
  },
  {
   "cell_type": "code",
   "execution_count": 7,
   "metadata": {},
   "outputs": [],
   "source": [
    "def Dphi_0P1(x,a,b):\n",
    "    \"\"\"derivative of phi_0 for linear basis functions\n",
    "\n",
    "    Args:\n",
    "        x (float): value\n",
    "        a (float): start point for basis-function\n",
    "        b (float): end of basis-function \n",
    "\n",
    "    Returns:\n",
    "        (float): Value\n",
    "    \"\"\"\n",
    "    h=b-a\n",
    "    return -1/h\n",
    "\n",
    "def Dphi_1P1(x,a,b):\n",
    "    h=b-a\n",
    "    return 1/h\n",
    "\n",
    "def Dphi_0P2(x,a,b):\n",
    "    MP = (b+a)/2\n",
    "    return (2*x-MP-b)/( (a-MP) * ( a-b))\n",
    "\n",
    "def Dphi_05P2(x,a,b):\n",
    "    MP = (b+a)/2\n",
    "    return (2*x - a -b) / ((MP-a)*(MP-b))\n",
    "\n",
    "def Dphi_1P2(x,a,b):\n",
    "    MP = (b+a)/2\n",
    "    return (2*x-MP -a) / ((b-MP)*(b-a)) \n",
    "\n",
    "#1D functions\n",
    "def func00P1(x,a,b):\n",
    "    return Dphi_0P1(x,a,b) * Dphi_0P1(x,a,b) + phi_0P1(x,a,b) * phi_0P1(x,a,b)\n",
    "def func01P1(x,a,b):\n",
    "    return Dphi_0P1(x, a,b) * Dphi_1P1(x,a,b) + phi_0P1(x,a,b)*phi_1P1(x,a,b)\n",
    "def func11P1(x,a,b):\n",
    "    return Dphi_1P1(x,a,b) * Dphi_1P1(x,a,b) + phi_1P1(x,a,b)*phi_1P1(x,a,b)\n",
    "\n",
    "\n",
    "#2D functions\n",
    "def func00P2(x,a,b):\n",
    "    return Dphi_0P2(x,a,b)*Dphi_0P2(x,a,b) + phi_0P2(x,a,b) * phi_0P2(x,a,b)\n",
    "\n",
    "def func005P2(x,a,b):\n",
    "    return Dphi_0P2(x,a,b)*Dphi_05P2(x,a,b) + phi_0P2(x,a,b) * phi_05P2(x,a,b)\n",
    "\n",
    "def func01P2(x,a,b):\n",
    "    return Dphi_0P2(x, a,b)*Dphi_1P2(x,a,b) + phi_0P2(x,a,b)*phi_1P2(x,a,b)\n",
    "\n",
    "def func050P2(x,a,b):\n",
    "    return Dphi_05P2(x,a,b)*Dphi_0P2(x,a,b) + phi_05P2(x,a,b) * phi_0P2(x,a,b)\n",
    "def func0505P2(x,a,b):\n",
    "    return Dphi_05P2(x,a,b)*Dphi_05P2(x,a,b) + phi_05P2(x,a,b) * phi_05P2(x,a,b)\n",
    "def func051P2(x,a,b):\n",
    "    return Dphi_05P2(x,a,b)*Dphi_1P2(x,a,b) + phi_05P2(x,a,b)*phi_1P2(x,a,b)\n",
    "\n",
    "def func10P2(x,a,b):\n",
    "    return Dphi_1P2(x,a,b)*Dphi_0P2(x,a,b) + phi_1P2(x,a,b) * phi_0P2(x,a,b)\n",
    "def func105P2(x,a,b):\n",
    "    return Dphi_1P2(x,a,b)*Dphi_05P2(x,a,b) + phi_1P2(x,a,b) * phi_05P2(x,a,b)\n",
    "def func11P2(x,a,b):\n",
    "    return Dphi_1P2(x,a,b)*Dphi_1P2(x,a,b) + phi_1P2(x,a,b)*phi_1P2(x,a,b)\n",
    "\n"
   ]
  },
  {
   "cell_type": "markdown",
   "metadata": {},
   "source": [
    "#### Task 1"
   ]
  },
  {
   "cell_type": "code",
   "execution_count": 8,
   "metadata": {},
   "outputs": [
    {
     "name": "stdout",
     "output_type": "stream",
     "text": [
      "[[ 4.08333333 -3.95833333  0.          0.          0.        ]\n",
      " [-3.95833333  8.16666667 -3.95833333  0.          0.        ]\n",
      " [ 0.         -3.95833333  8.16666667 -3.95833333  0.        ]\n",
      " [ 0.          0.         -3.95833333  8.16666667 -3.95833333]\n",
      " [ 0.          0.          0.         -3.95833333  4.08333333]]\n"
     ]
    }
   ],
   "source": [
    "s=0\n",
    "n=5\n",
    "mesh = np.linspace(0,1,n)\n",
    "\n",
    "def loadMatrix1DLinear(mesh, s):\n",
    "    A = np.zeros((n,n))\n",
    "    for i in range(1,n):\n",
    "        I1 = computeIntegral1D(mesh[i-1],mesh[i], func00P1, s)\n",
    "        I2 = computeIntegral1D(mesh[i-1], mesh[i], func01P1, s)\n",
    "        I3 = computeIntegral1D(mesh[i-1], mesh[i], func11P1, s)\n",
    "        \n",
    "        A[i-1,i-1] += I1\n",
    "        A[i-1,i] += I2\n",
    "        A[i,i-1] += I2\n",
    "        A[i,i] += I3 \n",
    "        \n",
    "    return(A)\n",
    "\n",
    "print(loadMatrix1DLinear(mesh,s))"
   ]
  },
  {
   "cell_type": "markdown",
   "metadata": {},
   "source": [
    "#### Task 2"
   ]
  },
  {
   "cell_type": "code",
   "execution_count": 9,
   "metadata": {},
   "outputs": [
    {
     "name": "stdout",
     "output_type": "stream",
     "text": [
      "[[ 4.72222222 -5.27777778  0.72222222  0.          0.        ]\n",
      " [-5.27777778 10.88888889 -5.27777778  0.          0.        ]\n",
      " [ 0.72222222 -5.27777778  9.44444444 -5.27777778  0.72222222]\n",
      " [ 0.          0.         -5.27777778 10.88888889 -5.27777778]\n",
      " [ 0.          0.          0.72222222 -5.27777778  4.72222222]]\n"
     ]
    }
   ],
   "source": [
    "s=0\n",
    "n=3\n",
    "mesh = np.linspace(0,1,n)\n",
    "\n",
    "def loadMatrix1DQuadratic(mesh, s):\n",
    "    NewMesh = np.linspace(0,1,2*len(mesh)-1)\n",
    "    A = np.zeros((len(NewMesh),len(NewMesh)))\n",
    "    for i in range(0,n-1):\n",
    "        \n",
    "        I00 = computeIntegral1D(NewMesh[2*(i)],NewMesh[2*(i+1)], func00P2, s)\n",
    "        I005 = computeIntegral1D(NewMesh[2*(i)],NewMesh[2*(i+1)], func005P2, s)\n",
    "        I01 = computeIntegral1D(NewMesh[2*(i)],NewMesh[2*(i+1)], func01P2, s)\n",
    "        \n",
    "        I050 = computeIntegral1D(NewMesh[2*(i)],NewMesh[2*(i+1)], func050P2, s)\n",
    "        I0505 = computeIntegral1D(NewMesh[2*(i)],NewMesh[2*(i+1)], func0505P2, s)\n",
    "        I051 = computeIntegral1D(NewMesh[2*(i)],NewMesh[2*(i+1)], func051P2, s)\n",
    "            \n",
    "        I10 = computeIntegral1D(NewMesh[2*(i)],NewMesh[2*(i+1)], func10P2, s)\n",
    "        I105 = computeIntegral1D(NewMesh[2*(i)],NewMesh[2*(i+1)], func105P2, s)\n",
    "        I11 = computeIntegral1D(NewMesh[2*(i)],NewMesh[2*(i+1)], func11P2, s)\n",
    "        \n",
    "        A[2*i,2*i]+=I00\n",
    "        A[2*i,2*i+1]+=I005\n",
    "        A[2*i,2*(i+1)]+=I01\n",
    "        \n",
    "        A[2*i+1,2*i] += I050\n",
    "        A[2*i+1,2*i+1] += I0505\n",
    "        A[2*i+1,2*(i+1)] += I051\n",
    "        \n",
    "        A[2*(i+1),2*i] += I10\n",
    "        A[2*(i+1),2*i+1] += I105\n",
    "        A[2*(i+1),2*(i+1)] += I11\n",
    "    return A\n",
    "    \n",
    "print(loadMatrix1DQuadratic(mesh, s))"
   ]
  },
  {
   "cell_type": "code",
   "execution_count": 30,
   "metadata": {},
   "outputs": [
    {
     "data": {
      "image/png": "[encoded data removed]",
      "text/plain": [
       "<Figure size 432x288 with 1 Axes>"
      ]
     },
     "metadata": {
      "needs_background": "light"
     },
     "output_type": "display_data"
    }
   ],
   "source": [
    "p=1\n",
    "s=1\n",
    "n=111\n",
    "mesh = np.linspace(0,1,n)\n",
    "newMesh = np.linspace(0,1,2*n-1)\n",
    "\n",
    "def testFunction(x):\n",
    "    return np.sin(4*np.pi*x)/4*np.pi*(1+4*np.pi)\n",
    "\n",
    "\n",
    "F = loadVector1D(mesh, p, testFunction, s)\n",
    "A = loadMatrix1DLinear(mesh,s)\n",
    "#A = loadMatrix1DQuadratic(mesh,s)\n",
    "\n",
    "solution = np.linalg.solve(A[1:-1,1:-1],F[1:-1])\n",
    "\n",
    "plt.figure()\n",
    "plt.grid()\n",
    "plt.plot(mesh[1:-1], solution)\n",
    "plt.show()\n",
    "\n"
   ]
  }
 ],
 "metadata": {
  "kernelspec": {
   "display_name": "base",
   "language": "python",
   "name": "python3"
  },
  "language_info": {
   "codemirror_mode": {
    "name": "ipython",
    "version": 3
   },
   "file_extension": ".py",
   "mimetype": "text/x-python",
   "name": "python",
   "nbconvert_exporter": "python",
   "pygments_lexer": "ipython3",
   "version": "3.9.7"
  }
 },
 "nbformat": 4,
 "nbformat_minor": 2
}
