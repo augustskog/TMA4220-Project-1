{
 "cells": [
  {
   "cell_type": "code",
   "execution_count": 227,
   "metadata": {},
   "outputs": [],
   "source": [
    "import numpy as np\n",
    "import matplotlib.pyplot as plt\n",
    "import random"
   ]
  },
  {
   "cell_type": "markdown",
   "metadata": {},
   "source": [
    "# Project 1 "
   ]
  },
  {
   "cell_type": "markdown",
   "metadata": {},
   "source": [
    "## 1 One dimensional problem"
   ]
  },
  {
   "cell_type": "markdown",
   "metadata": {},
   "source": [
    "### 1.1 "
   ]
  },
  {
   "cell_type": "markdown",
   "metadata": {},
   "source": [
    "We are asked to create a function called \"computeIntegral1D\" which takes in the following arguments:\n",
    "* $x_{i-1}, x_i$: the two values defining the integration interval,\n",
    "* $g$: a function you want to integrate over the interval,\n",
    "* $s$: type of Gaussian quadrature rule used to approximate the integral, $s = 0$ for Gaussian-Legendre and $s = 1$ for Gaussian-Lobatto\n",
    "\n",
    "We want to use this function to compute the following approximations:\n",
    "* Gaussian-Legendre quadrature\n",
    "$$\n",
    "I \\approx \\frac{h_i}{2} \\lbrack g(-\\frac{h_i}{2\\sqrt{3}}+\\frac{x_{i-1}+x_i}{2}) + g(\\frac{h_i}{2\\sqrt{3}}+\\frac{x_{i-1}+x_i}{2}) \\rbrack\n",
    "$$\n",
    "\n",
    "* Gaussian-Lobatto quadrature\n",
    "\n",
    "$$\n",
    "I \\approx \\frac{h_i}{2} \\lbrack \\frac{1}{3} g(-\\frac{h_i}{2}+\\frac{x_{i-1}+x_i}{2}+\\frac{4}{3}g(\\frac{x_{i-1}+x_i}{2})+\\frac{1}{3}g(\\frac{h_i}{2}+\\frac{x_{i-1}+x_i}{2}))\n",
    "$$"
   ]
  },
  {
   "cell_type": "code",
   "execution_count": 228,
   "metadata": {},
   "outputs": [],
   "source": [
    "def computeIntegral1D(a,b,func,type=0):\n",
    "    \"\"\"_summary_\n",
    "\n",
    "    Args:\n",
    "        a (float): start of integraion intervall\n",
    "        b (float): end of integraion intervall\n",
    "        func (function): function we want to integrate\n",
    "        type (int, optional): what \n",
    "\n",
    "    Returns:\n",
    "        approx(float) : value of integral\n",
    "    \"\"\"\n",
    "    h=b-a\n",
    "    if type==0:\n",
    "        approx = h/2 * (func(-h/(2*np.sqrt(3)) + (a+b)/2,a,b) + func(h/(2*np.sqrt(3)) +(a+b)/2,a,b))\n",
    "    else: \n",
    "        approx = h/2 * (1/3*func(-h/2 + (a+b)/2,a,b) + 4/3*func((a+b)/2,a,b) + 1/3*func(h/2+(a+b)/2,a,b))\n",
    "    return approx"
   ]
  },
  {
   "cell_type": "markdown",
   "metadata": {},
   "source": [
    "We are asked to verify that the approximation formula is correct for polynomials of degree 3 or lower. We do this by caluclating the exact integral of a 3. degree polynomial on the intervall a to b, and compare analytical value to the approximation. The exact solution to the integral of a third degree polynomial - $p_3(x)$ - on the intervall $[a,b]$ is caluculated below.\n",
    "\n",
    "$$\n",
    "p_3(x) = c_3x^3 + c_2x^2 + c_1x + c_0\n",
    "$$\n",
    "\n",
    "$$\n",
    "\\begin{align}\n",
    "\\int_a^bp_3(x)dx =& \\int_a^b  c_3x^3 + c_2x^2 + c_1x + c_0 \\\\ \n",
    "=& \\lbrack \\frac{c_3x^4}{4} + \\frac{c_2x^3}{3} + \\frac{c_1x^2}{2} + c_0x \\rbrack^b_a \\\\ \n",
    "=& [\\frac{c_3b^4}{4} + \\frac{c_2b^3}{3} + \\frac{c_1b^2}{2} + c_0b] \\\\ \n",
    "-& [\\frac{c_3a^4}{4} + \\frac{c_2a^3}{3} + \\frac{c_1a^2}{2} + c_0a]\n",
    "\\end{align}\n",
    "$$"
   ]
  },
  {
   "cell_type": "code",
   "execution_count": 229,
   "metadata": {},
   "outputs": [],
   "source": [
    "def intPol3(c3, c2, c1, c0, a, b):\n",
    "    \"\"\"_summary_\n",
    "\n",
    "    Args:\n",
    "        c3 (float): coefficent for x^3\n",
    "        c2 (float): coefficent for x^2\n",
    "        c1 (float): coefficent for x\n",
    "        c0 (float): constant\n",
    "        a (float): start of intervall\n",
    "        b (float): end of intervall\n",
    "\n",
    "    Returns:\n",
    "        (function): exact solution to integral of 3. degree polynomail on [a,b]\n",
    "    \"\"\"\n",
    "    return c3*b**4/4 + c2*b**3/3 + c1*b**2/2 + c0*b - (c3*a**4/4 + c2*a**3/3 + c1*a**2/2 + c0*a) \n",
    "\n",
    "\n",
    "def verifyPrecision(c3, c2, c1,c0, a, b, tol):\n",
    "    \"\"\"_summary_\n",
    "\n",
    "    Args:\n",
    "        c3 (float): coefficent for x^3\n",
    "        c2 (float): coefficent for x^2\n",
    "        c1 (float): coefficent for x\n",
    "        c0 (float): constant\n",
    "        a (float): start of intervall\n",
    "        b (float): end of intervall\n",
    "        tol (float): _tolerance of error between exact and approximate value of intervall\n",
    "    \"\"\"\n",
    "    def testPolynomial(x,a,b):\n",
    "        return c3*x**3 + c2*x**2 + c1*x + c0\n",
    "    \n",
    "    fApprox0 = computeIntegral1D(a,b, testPolynomial, 0)\n",
    "    fApprox1 = computeIntegral1D(a,b, testPolynomial, 1)\n",
    "    fExact = intPol3(c3, c2, c1, c0, a, b)\n",
    "    \n",
    "    if (fApprox0 - fExact < tol):\n",
    "        print(\"Gaussian-Legendre quadrature computes correct value\")\n",
    "        \n",
    "    if (fApprox1 - fExact < tol):\n",
    "        print(\"Gaussian-Lobatto quadrature computes correct value.\")\n",
    "    return; \n"
   ]
  },
  {
   "cell_type": "code",
   "execution_count": 230,
   "metadata": {},
   "outputs": [
    {
     "name": "stdout",
     "output_type": "stream",
     "text": [
      "Test for c3=c2=c1=c0=1, a=0, b=1, tol = 10^{-10}:\n",
      "Gaussian-Legendre quadrature computes correct value\n",
      "Gaussian-Lobatto quadrature computes correct value.\n",
      " \n",
      "Test for c3=0, c2=1, c1=2, c0=3, a=-3.6, b=14.7, tol = 10^{-10}:\n",
      "Gaussian-Legendre quadrature computes correct value\n",
      "Gaussian-Lobatto quadrature computes correct value.\n",
      " \n",
      "Test for c3=0.13, c2=0.85, c1=0.76, c0=0.26, a=0.5, b=0.45, tol = 10^-10:\n",
      "Gaussian-Legendre quadrature computes correct value\n",
      "Gaussian-Lobatto quadrature computes correct value.\n"
     ]
    }
   ],
   "source": [
    "tol = 10**(-10)\n",
    "print(r\"Test for c3=c2=c1=c0=1, a=0, b=1, tol = 10^{-10}:\")\n",
    "verifyPrecision(1,1,1,1,0,1,tol)\n",
    "print(\" \")\n",
    "print(r\"Test for c3=0, c2=1, c1=2, c0=3, a=-3.6, b=14.7, tol = 10^{-10}:\")\n",
    "verifyPrecision(0,1,2,3, -3.6,14.7, tol)\n",
    "print(\" \")\n",
    "\n",
    "random.seed(1)\n",
    "c3=random.random()\n",
    "c2=random.random()\n",
    "c1=random.random()\n",
    "c0=random.random()\n",
    "a=random.random()\n",
    "b=random.random()\n",
    "print(f\"Test for c3={round(c3,2)}, c2={round(c2,2)}, c1={round(c1,2)}, c0={round(c0,2)}, a={round(a,2)}, b={round(b,2)}, tol = 10^{-10}:\")\n",
    "verifyPrecision(c3,1,2,3, -3.6,14.7, tol)"
   ]
  },
  {
   "cell_type": "markdown",
   "metadata": {},
   "source": [
    "As we observe from the code chunk above, the function computes the correct values with a toleranse of $10^{-10}$.\n",
    "\n",
    "## Dette må nok endres på. Må spøre hvordan det man skal \"Verify\" resultatet"
   ]
  },
  {
   "cell_type": "markdown",
   "metadata": {},
   "source": [
    "### 1.2"
   ]
  },
  {
   "cell_type": "markdown",
   "metadata": {},
   "source": [
    "We are asked to create a function \"loadVector1D\" that takes the following input parameters: \n",
    "* mesh: a list/array containing the nodes of the mesh $\\mathcal{T_h}$,\n",
    "* $p \\in \\{1,2\\}$: this number determines if you use the finite-dimensional space $V_h^1$ or $V_h^2$, i.e. we have F for $V_h^p$\n",
    "* f: the function defining the right hand side of the problem initial problem\n",
    "* s : the type of Gaussian quadrature to approximate the needed integrals.\n",
    "\n",
    "The output of this function should be the load vector F. "
   ]
  },
  {
   "cell_type": "code",
   "execution_count": 242,
   "metadata": {},
   "outputs": [],
   "source": [
    "#Defining basis functions for P1 and P2\n",
    "\n",
    "\n",
    "def phi_0P1(x,a,b):\n",
    "    \"\"\"phi_0 for linear basis functions\n",
    "\n",
    "    Args:\n",
    "        x (float): value\n",
    "        a (float): start point for basis-function\n",
    "        b (float): end of basis-function \n",
    "\n",
    "    Returns:\n",
    "        (float): Value\n",
    "    \"\"\"\n",
    "    h=b-a\n",
    "    return (b-x)/h\n",
    "\n",
    "def phi_1P1(x,a,b):\n",
    "    h=b-a\n",
    "    return (x-a)/h\n",
    "\n",
    "def phi_0P2(x,a,b):\n",
    "    h=b-a\n",
    "    MP=(b+a)/2\n",
    "    return ((x-MP) * (x-a))/((b-MP) * (b-a))\n",
    "\n",
    "def phi_05P2(x,a,b):\n",
    "    h=b-a\n",
    "    MP=(b+a)/2\n",
    "    return ((x-a) * (x-b))/((MP-a) * (MP-b))\n",
    "\n",
    "def phi_1P2(x,a,b):\n",
    "    h=b-a\n",
    "    MP=(b+a)/2\n",
    "    return ((x-MP) * (x-a))/((b-MP) * (b-a))\n"
   ]
  },
  {
   "cell_type": "code",
   "execution_count": 246,
   "metadata": {},
   "outputs": [
    {
     "name": "stdout",
     "output_type": "stream",
     "text": [
      "[0.01041667 0.02083333 0.03125    0.0625     0.05208333 0.10416667\n",
      " 0.07291667 0.14583333 0.04166667]\n"
     ]
    }
   ],
   "source": [
    "s=0\n",
    "p=2\n",
    "n=5\n",
    "mesh = np.linspace(0,1,n)\n",
    "def testFunction(x):\n",
    "    return x\n",
    "\n",
    "\n",
    "\n",
    "\n",
    "def loadVector1D(mesh, p, func, s):\n",
    "     \"\"\" function that creates load vector\n",
    "\n",
    "    Args:\n",
    "        mesh (1D array): grid of omega\n",
    "        p (int): linear(1) or quadratic(2) basis function\n",
    "        func (function): function we use the functional on: F(func)\n",
    "        s (int): What integration method we will use (Gaussian-Legendre quadrature or Gaussian-Lobatto quadrature)  \n",
    "    Returns:\n",
    "        loadvector (array): load vector for given problem \n",
    "     \"\"\"     \n",
    "     if(p==1):\n",
    "          \n",
    "          def func0(x,a,b):\n",
    "               return phi_0P1(x,a,b)*func(x)\n",
    "     \n",
    "          def func1(x,a,b):\n",
    "               return phi_1P1(x,a,b)*func(x)\n",
    "          \n",
    "          loadVector = np.zeros(len(mesh))\n",
    "\n",
    "          for i in range(1,len(mesh)):\n",
    "               I1 = computeIntegral1D(mesh[i-1],mesh[i], func0, s,)\n",
    "               I2 = computeIntegral1D(mesh[i-1],mesh[i], func1, s)\n",
    "               loadVector[i-1] = loadVector[i-1] + I1\n",
    "               loadVector[i] = loadVector[i] + I2\n",
    "               \n",
    "     elif(p==2):\n",
    "          def func0(x,a,b):\n",
    "               return phi_0P2(x,a,b)*func(x)\n",
    "     \n",
    "          def func1(x,a,b):\n",
    "               return phi_1P2(x,a,b)*func(x)\n",
    "          \n",
    "          def func05(x,a,b):\n",
    "               return phi_05P2(x,a,b)*func(x)\n",
    "          \n",
    "          \n",
    "          m = len(mesh)\n",
    "          NewMesh = np.linspace(0,1,2*m-1)\n",
    "          loadVector = np.zeros(2*m-1)\n",
    "          \n",
    "          for i in range(0, m-1):\n",
    "               \n",
    "               #print(NewMesh[2*i],NewMesh[2*(i+1)])\n",
    "               I05 = computeIntegral1D(NewMesh[2*i],NewMesh[2*(i+1)], func05, s)\n",
    "               I1 = computeIntegral1D(NewMesh[2*i],NewMesh[2*(i+1)], func0, s)\n",
    "               I2 = computeIntegral1D(NewMesh[2*i],NewMesh[2*(i+1)], func1, s)\n",
    "               \n",
    "               loadVector[2*i]+=I1\n",
    "               loadVector[2*i+1]+=I05\n",
    "               loadVector[2*(i+1)]+=I2\n",
    "               \n",
    "     return loadVector\n",
    "\n",
    "print(loadVector1D(mesh, p, testFunction, s))"
   ]
  }
 ],
 "metadata": {
  "kernelspec": {
   "display_name": "base",
   "language": "python",
   "name": "python3"
  },
  "language_info": {
   "codemirror_mode": {
    "name": "ipython",
    "version": 3
   },
   "file_extension": ".py",
   "mimetype": "text/x-python",
   "name": "python",
   "nbconvert_exporter": "python",
   "pygments_lexer": "ipython3",
   "version": "3.9.7"
  }
 },
 "nbformat": 4,
 "nbformat_minor": 2
}
