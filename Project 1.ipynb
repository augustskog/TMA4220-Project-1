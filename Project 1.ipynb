{
 "cells": [
  {
   "cell_type": "code",
   "execution_count": 1,
   "metadata": {},
   "outputs": [],
   "source": [
    "import numpy as np\n",
    "import matplotlib.pyplot as plt\n",
    "import random"
   ]
  },
  {
   "cell_type": "markdown",
   "metadata": {},
   "source": [
    "# Project 1 "
   ]
  },
  {
   "cell_type": "markdown",
   "metadata": {},
   "source": [
    "## 1 One dimensional problem"
   ]
  },
  {
   "cell_type": "markdown",
   "metadata": {},
   "source": [
    "### 1.1 "
   ]
  },
  {
   "cell_type": "markdown",
   "metadata": {},
   "source": [
    "We are asked to create a function called \"computeIntegral1D\" which takes in the following arguments:\n",
    "* $x_{i-1}, x_i$: the two values defining the integration interval,\n",
    "* $g$: a function you want to integrate over the interval,\n",
    "* $s$: type of Gaussian quadrature rule used to approximate the integral, $s = 0$ for Gaussian-Legendre and $s = 1$ for Gaussian-Lobatto\n",
    "\n",
    "We want to use this function to compute the following approximations:\n",
    "* Gaussian-Legendre quadrature\n",
    "$$\n",
    "I \\approx \\frac{h_i}{2} \\lbrack g(-\\frac{h_i}{2\\sqrt{3}}+\\frac{x_{i-1}+x_i}{2}) + g(\\frac{h_i}{2\\sqrt{3}}+\\frac{x_{i-1}+x_i}{2}) \\rbrack\n",
    "$$\n",
    "\n",
    "* Gaussian-Lobatto quadrature\n",
    "\n",
    "$$\n",
    "I \\approx \\frac{h_i}{2} \\lbrack \\frac{1}{3} g(-\\frac{h_i}{2}+\\frac{x_{i-1}+x_i}{2}+\\frac{4}{3}g(\\frac{x_{i-1}+x_i}{2})+\\frac{1}{3}g(\\frac{h_i}{2}+\\frac{x_{i-1}+x_i}{2}))\n",
    "$$"
   ]
  },
  {
   "cell_type": "code",
   "execution_count": 15,
   "metadata": {},
   "outputs": [],
   "source": [
    "def computeIntegral1D(a,b,func,type=0):\n",
    "    h=b-a\n",
    "    if type==0:\n",
    "        approx = h/2 * (func(-h/(2*np.sqrt(3)) + (a+b)/2,a,b) + func(h/(2*np.sqrt(3)) +(a+b)/2,a,b))\n",
    "    else: \n",
    "        approx = h/2 * (1/3*func(-h/2 + (a+b)/2,a,b) + 4/3*func((a+b)/2,a,b) + 1/3*func(h/2+(a+b)/2,a,b))\n",
    "    return approx"
   ]
  },
  {
   "cell_type": "markdown",
   "metadata": {},
   "source": [
    "We are asked to verify that the approximation formula is correct for polynomials of degree 3 or lower. We do this by caluclating the exact integral of a 3. degree polynomial on the intervall a to b, and compare analytical value to the approximation. The exact solution to the integral of a third degree polynomial - $p_3(x)$ - on the intervall $[a,b]$ is caluculated below.\n",
    "\n",
    "$$\n",
    "p_3(x) = c_3x^3 + c_2x^2 + c_1x + c_0\n",
    "$$\n",
    "\n",
    "$$\n",
    "\\begin{align}\n",
    "\\int_a^bp_3(x)dx =& \\int_a^b  c_3x^3 + c_2x^2 + c_1x + c_0 \\\\ \n",
    "=& \\lbrack \\frac{c_3x^4}{4} + \\frac{c_2x^3}{3} + \\frac{c_1x^2}{2} + c_0x \\rbrack^b_a \\\\ \n",
    "=& [\\frac{c_3b^4}{4} + \\frac{c_2b^3}{3} + \\frac{c_1b^2}{2} + c_0b] \\\\ \n",
    "-& [\\frac{c_3a^4}{4} + \\frac{c_2a^3}{3} + \\frac{c_1a^2}{2} + c_0a]\n",
    "\\end{align}\n",
    "$$"
   ]
  },
  {
   "cell_type": "code",
   "execution_count": 18,
   "metadata": {},
   "outputs": [],
   "source": [
    "def intPol3(c3, c2, c1, c0, a, b):\n",
    "    return c3*b**4/4 + c2*b**3/3 + c1*b**2/2 + c0*b - (c3*a**4/4 + c2*a**3/3 + c1*a**2/2 + c0*a) \n",
    "\n",
    "\n",
    "def verifyPrecision(c3, c2, c1,c0, a, b, tol):\n",
    "    def testPolynomial(x,a,b):\n",
    "        return c3*x**3 + c2*x**2 + c1*x + c0\n",
    "    \n",
    "    fApprox0 = computeIntegral1D(a,b, testPolynomial, 0)\n",
    "    fApprox1 = computeIntegral1D(a,b, testPolynomial, 1)\n",
    "    fExact = intPol3(c3, c2, c1, c0, a, b)\n",
    "    \n",
    "    if (fApprox0 - fExact < tol):\n",
    "        print(\"Gaussian-Legendre quadrature computes correct value\")\n",
    "        \n",
    "    if (fApprox1 - fExact < tol):\n",
    "        print(\"Gaussian-Lobatto quadrature computes correct value.\")\n",
    "    return; \n"
   ]
  },
  {
   "cell_type": "code",
   "execution_count": 19,
   "metadata": {},
   "outputs": [
    {
     "name": "stdout",
     "output_type": "stream",
     "text": [
      "Test for c3=c2=c1=c0=1, a=0, b=1, tol = 10^{-10}:\n",
      "Gaussian-Legendre quadrature computes correct value\n",
      "Gaussian-Lobatto quadrature computes correct value.\n",
      " \n",
      "Test for c3=0, c2=1, c1=2, c0=3, a=-3.6, b=14.7, tol = 10^{-10}:\n",
      "Gaussian-Legendre quadrature computes correct value\n",
      "Gaussian-Lobatto quadrature computes correct value.\n",
      " \n",
      "Test for c3=0.13, c2=0.85, c1=0.76, c0=0.26, a=0.5, b=0.45, tol = 10^-10:\n",
      "Gaussian-Legendre quadrature computes correct value\n",
      "Gaussian-Lobatto quadrature computes correct value.\n"
     ]
    }
   ],
   "source": [
    "tol = 10**(-10)\n",
    "print(r\"Test for c3=c2=c1=c0=1, a=0, b=1, tol = 10^{-10}:\")\n",
    "verifyPrecision(1,1,1,1,0,1,tol)\n",
    "print(\" \")\n",
    "print(r\"Test for c3=0, c2=1, c1=2, c0=3, a=-3.6, b=14.7, tol = 10^{-10}:\")\n",
    "verifyPrecision(0,1,2,3, -3.6,14.7, tol)\n",
    "print(\" \")\n",
    "\n",
    "random.seed(1)\n",
    "c3=random.random()\n",
    "c2=random.random()\n",
    "c1=random.random()\n",
    "c0=random.random()\n",
    "a=random.random()\n",
    "b=random.random()\n",
    "print(f\"Test for c3={round(c3,2)}, c2={round(c2,2)}, c1={round(c1,2)}, c0={round(c0,2)}, a={round(a,2)}, b={round(b,2)}, tol = 10^{-10}:\")\n",
    "verifyPrecision(c3,1,2,3, -3.6,14.7, tol)"
   ]
  },
  {
   "cell_type": "markdown",
   "metadata": {},
   "source": [
    "As we observe from the code chunk above, the function computes the correct values with a toleranse of $10^{-10}$.\n",
    "\n",
    "## Dette må nok endres på. Må spøre hvordan det man skal \"Verify\" resultatet"
   ]
  },
  {
   "cell_type": "markdown",
   "metadata": {},
   "source": [
    "### 1.2"
   ]
  },
  {
   "cell_type": "markdown",
   "metadata": {},
   "source": [
    "We are asked to create a function \"loadVector1D\" that takes the following input parameters: \n",
    "* mesh: a list/array containing the nodes of the mesh $\\mathcal{T_h}$,\n",
    "* $p \\in \\{1,2\\}$: this number determines if you use the finite-dimensional space $V_h^1$ or $V_h^2$, i.e. we have F for $V_h^p$\n",
    "* f: the function defining the right hand side of the problem initial problem\n",
    "* s : the type of Gaussian quadrature to approximate the needed integrals.\n",
    "\n",
    "The output of this function should be the load vector F. "
   ]
  },
  {
   "cell_type": "code",
   "execution_count": 20,
   "metadata": {},
   "outputs": [],
   "source": [
    "def phi_0P1(x,a,b):\n",
    "    h=b-a\n",
    "    return (b-x)/h\n",
    "def phi_1P1(x,a,b):\n",
    "    h=b-a\n",
    "    return (x-a)/h"
   ]
  },
  {
   "cell_type": "code",
   "execution_count": 24,
   "metadata": {},
   "outputs": [
    {
     "name": "stdout",
     "output_type": "stream",
     "text": [
      "[8.33333333e-05 1.16666667e-03 4.16666667e-03 9.16666667e-03\n",
      " 1.61666667e-02 2.51666667e-02 3.61666667e-02 4.91666667e-02\n",
      " 6.41666667e-02 8.11666667e-02 4.67500000e-02]\n"
     ]
    }
   ],
   "source": [
    "s=0\n",
    "p=0\n",
    "mesh = np.linspace(0,1,11)\n",
    "def testFunction(x):\n",
    "    return x**2\n",
    "\n",
    "\n",
    "\n",
    "\n",
    "def loadVector1D(mesh, p, func, s):\n",
    "\n",
    "     def func0(x,a,b):\n",
    "          return phi_0P1(x,a,b)*func(x)\n",
    "     def func1(x,a,b):\n",
    "         return phi_1P1(x,a,b)*func(x)\n",
    " \n",
    "     loadVector = np.zeros(len(mesh))\n",
    "\n",
    "     for i in range(1,len(mesh)):\n",
    "          I1 = computeIntegral1D(mesh[i-1],mesh[i], func0, s,)\n",
    "          I2 = computeIntegral1D(mesh[i-1],mesh[i], func1, s)\n",
    "          loadVector[i-1] = loadVector[i-1] + I1\n",
    "          loadVector[i] = loadVector[i] + I2\n",
    "     return loadVector\n",
    "\n",
    "print(loadVector1D(mesh, p, testFunction, s))"
   ]
  },
  {
   "cell_type": "code",
   "execution_count": null,
   "metadata": {},
   "outputs": [],
   "source": []
  }
 ],
 "metadata": {
  "kernelspec": {
   "display_name": "base",
   "language": "python",
   "name": "python3"
  },
  "language_info": {
   "codemirror_mode": {
    "name": "ipython",
    "version": 3
   },
   "file_extension": ".py",
   "mimetype": "text/x-python",
   "name": "python",
   "nbconvert_exporter": "python",
   "pygments_lexer": "ipython3",
   "version": "3.9.7"
  }
 },
 "nbformat": 4,
 "nbformat_minor": 2
}
