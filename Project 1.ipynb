{
 "cells": [
  {
   "cell_type": "code",
   "execution_count": 1,
   "metadata": {},
   "outputs": [],
   "source": [
    "import numpy as np\n",
    "import matplotlib.pyplot as plt\n",
    "import random"
   ]
  },
  {
   "cell_type": "markdown",
   "metadata": {},
   "source": [
    "# Project 1 "
   ]
  },
  {
   "cell_type": "markdown",
   "metadata": {},
   "source": [
    "## 1 One dimensional problem"
   ]
  },
  {
   "cell_type": "markdown",
   "metadata": {},
   "source": [
    "### 1.1 "
   ]
  },
  {
   "cell_type": "markdown",
   "metadata": {},
   "source": [
    "We are asked to create a function called \"computeIntegral1D\" which takes in the following arguments:\n",
    "* $x_{i-1}, x_i$: the two values defining the integration interval,\n",
    "* $g$: a function you want to integrate over the interval,\n",
    "* $s$: type of Gaussian quadrature rule used to approximate the integral, $s = 0$ for Gaussian-Legendre and $s = 1$ for Gaussian-Lobatto\n",
    "\n",
    "We want to use this function to compute the following approximations:\n",
    "* Gaussian-Legendre quadrature\n",
    "$$\n",
    "I \\approx \\frac{h_i}{2} \\lbrack g(-\\frac{h_i}{2\\sqrt{3}}+\\frac{x_{i-1}+x_i}{2}) + g(\\frac{h_i}{2\\sqrt{3}}+\\frac{x_{i-1}+x_i}{2}) \\rbrack\n",
    "$$\n",
    "\n",
    "* Gaussian-Lobatto quadrature\n",
    "\n",
    "$$\n",
    "I \\approx \\frac{h_i}{2} \\lbrack \\frac{1}{3} g(-\\frac{h_i}{2}+\\frac{x_{i-1}+x_i}{2}+\\frac{4}{3}g(\\frac{x_{i-1}+x_i}{2})+\\frac{1}{3}g(\\frac{h_i}{2}+\\frac{x_{i-1}+x_i}{2}))\n",
    "$$"
   ]
  },
  {
   "cell_type": "code",
   "execution_count": 2,
   "metadata": {},
   "outputs": [
    {
     "name": "stdout",
     "output_type": "stream",
     "text": [
      "-1.7916666666666665e-06\n"
     ]
    }
   ],
   "source": [
    "def computeIntegral1D(a,b,func,type=0):\n",
    "    \"\"\"_summary_\n",
    "\n",
    "    Args:\n",
    "        a (float): start of integraion intervall\n",
    "        b (float): end of integraion intervall\n",
    "        func (function): function we want to integrate\n",
    "        type (int, optional): what \n",
    "\n",
    "    Returns:\n",
    "        approx(float) : value of integral\n",
    "    \"\"\"\n",
    "    h=b-a\n",
    "    if type==0:\n",
    "        approx = h/2 * (func(-h/(2*np.sqrt(3)) + (a+b)/2,a,b) + func(h/(2*np.sqrt(3)) +(a+b)/2,a,b))\n",
    "    else: \n",
    "        approx = h/2 * (1/3*func(-h/2 + (a+b)/2,a,b) + 4/3*func((a+b)/2,a,b) + 1/3*func(h/2+(a+b)/2,a,b))\n",
    "    return approx\n",
    "\n",
    "def f(x):\n",
    "    return x*(x-1)\n",
    "\n",
    "def g(x):\n",
    "    return x**3\n",
    "\n",
    "def h(x,a,b):\n",
    "    return f(x)*g(x)\n",
    "\n",
    "print(computeIntegral1D(0,0.1,h,type=0))"
   ]
  },
  {
   "cell_type": "markdown",
   "metadata": {},
   "source": [
    "We are asked to verify that the approximation formula is correct for polynomials of degree 3 or lower. We do this by caluclating the exact integral of a 3. degree polynomial on the intervall a to b, and compare analytical value to the approximation. The exact solution to the integral of a third degree polynomial - $p_3(x)$ - on the intervall $[a,b]$ is caluculated below.\n",
    "\n",
    "$$\n",
    "p_3(x) = c_3x^3 + c_2x^2 + c_1x + c_0\n",
    "$$\n",
    "\n",
    "$$\n",
    "\\begin{align}\n",
    "\\int_a^bp_3(x)dx =& \\int_a^b  c_3x^3 + c_2x^2 + c_1x + c_0 \\\\ \n",
    "=& \\lbrack \\frac{c_3x^4}{4} + \\frac{c_2x^3}{3} + \\frac{c_1x^2}{2} + c_0x \\rbrack^b_a \\\\ \n",
    "=& [\\frac{c_3b^4}{4} + \\frac{c_2b^3}{3} + \\frac{c_1b^2}{2} + c_0b] \\\\ \n",
    "-& [\\frac{c_3a^4}{4} + \\frac{c_2a^3}{3} + \\frac{c_1a^2}{2} + c_0a]\n",
    "\\end{align}\n",
    "$$"
   ]
  },
  {
   "cell_type": "code",
   "execution_count": 3,
   "metadata": {},
   "outputs": [],
   "source": [
    "def intPol3(c3, c2, c1, c0, a, b):\n",
    "    \"\"\"_summary_\n",
    "\n",
    "    Args:\n",
    "        c3 (float): coefficent for x^3\n",
    "        c2 (float): coefficent for x^2\n",
    "        c1 (float): coefficent for x\n",
    "        c0 (float): constant\n",
    "        a (float): start of intervall\n",
    "        b (float): end of intervall\n",
    "\n",
    "    Returns:\n",
    "        (function): exact solution to integral of 3. degree polynomail on [a,b]\n",
    "    \"\"\"\n",
    "    return c3*b**4/4 + c2*b**3/3 + c1*b**2/2 + c0*b - (c3*a**4/4 + c2*a**3/3 + c1*a**2/2 + c0*a) \n",
    "\n",
    "\n",
    "def verifyPrecision(c3, c2, c1,c0, a, b, tol):\n",
    "    \"\"\"_summary_\n",
    "\n",
    "    Args:\n",
    "        c3 (float): coefficent for x^3\n",
    "        c2 (float): coefficent for x^2\n",
    "        c1 (float): coefficent for x\n",
    "        c0 (float): constant\n",
    "        a (float): start of intervall\n",
    "        b (float): end of intervall\n",
    "        tol (float): _tolerance of error between exact and approximate value of intervall\n",
    "    \"\"\"\n",
    "    def testPolynomial(x,a,b):\n",
    "        return c3*x**3 + c2*x**2 + c1*x + c0\n",
    "    \n",
    "    fApprox0 = computeIntegral1D(a,b, testPolynomial, 0)\n",
    "    fApprox1 = computeIntegral1D(a,b, testPolynomial, 1)\n",
    "    fExact = intPol3(c3, c2, c1, c0, a, b)\n",
    "    \n",
    "    if (fApprox0 - fExact < tol):\n",
    "        print(\"Gaussian-Legendre quadrature computes correct value\")\n",
    "        \n",
    "    if (fApprox1 - fExact < tol):\n",
    "        print(\"Gaussian-Lobatto quadrature computes correct value.\")\n",
    "    return; \n"
   ]
  },
  {
   "cell_type": "code",
   "execution_count": 4,
   "metadata": {},
   "outputs": [
    {
     "name": "stdout",
     "output_type": "stream",
     "text": [
      "Test for c3=c2=c1=c0=1, a=0, b=1, tol = 10^{-10}:\n",
      "Gaussian-Legendre quadrature computes correct value\n",
      "Gaussian-Lobatto quadrature computes correct value.\n",
      " \n",
      "Test for c3=0, c2=1, c1=2, c0=3, a=-3.6, b=14.7, tol = 10^{-10}:\n",
      "Gaussian-Legendre quadrature computes correct value\n",
      "Gaussian-Lobatto quadrature computes correct value.\n",
      " \n",
      "Test for c3=0.13, c2=0.85, c1=0.76, c0=0.26, a=0.5, b=0.45, tol = 10^-10:\n",
      "Gaussian-Legendre quadrature computes correct value\n",
      "Gaussian-Lobatto quadrature computes correct value.\n"
     ]
    }
   ],
   "source": [
    "tol = 10**(-10)\n",
    "print(r\"Test for c3=c2=c1=c0=1, a=0, b=1, tol = 10^{-10}:\")\n",
    "verifyPrecision(1,1,1,1,0,1,tol)\n",
    "print(\" \")\n",
    "print(r\"Test for c3=0, c2=1, c1=2, c0=3, a=-3.6, b=14.7, tol = 10^{-10}:\")\n",
    "verifyPrecision(0,1,2,3, -3.6,14.7, tol)\n",
    "print(\" \")\n",
    "\n",
    "random.seed(1)\n",
    "c3=random.random()\n",
    "c2=random.random()\n",
    "c1=random.random()\n",
    "c0=random.random()\n",
    "a=random.random()\n",
    "b=random.random()\n",
    "print(f\"Test for c3={round(c3,2)}, c2={round(c2,2)}, c1={round(c1,2)}, c0={round(c0,2)}, a={round(a,2)}, b={round(b,2)}, tol = 10^{-10}:\")\n",
    "verifyPrecision(c3,1,2,3, -3.6,14.7, tol)"
   ]
  },
  {
   "cell_type": "markdown",
   "metadata": {},
   "source": [
    "As we observe from the code chunk above, the function computes the correct values with a toleranse of $10^{-10}$.\n",
    "\n",
    "## Dette må nok endres på. Må spøre hvordan det man skal \"Verify\" resultatet"
   ]
  },
  {
   "cell_type": "markdown",
   "metadata": {},
   "source": [
    "### 1.2"
   ]
  },
  {
   "cell_type": "markdown",
   "metadata": {},
   "source": [
    "We are asked to create a function \"loadVector1D\" that takes the following input parameters: \n",
    "* mesh: a list/array containing the nodes of the mesh $\\mathcal{T_h}$,\n",
    "* $p \\in \\{1,2\\}$: this number determines if you use the finite-dimensional space $V_h^1$ or $V_h^2$, i.e. we have F for $V_h^p$\n",
    "* f: the function defining the right hand side of the problem initial problem\n",
    "* s : the type of Gaussian quadrature to approximate the needed integrals.\n",
    "\n",
    "The output of this function should be the load vector F. "
   ]
  },
  {
   "cell_type": "code",
   "execution_count": 5,
   "metadata": {},
   "outputs": [],
   "source": [
    "#Defining basis functions for P1 and P2\n",
    "\n",
    "\n",
    "def phi_0P1(x,a,b):\n",
    "    \"\"\"phi_0 for linear basis functions\n",
    "\n",
    "    Args:\n",
    "        x (float): value\n",
    "        a (float): start point for basis-function\n",
    "        b (float): end of basis-function \n",
    "\n",
    "    Returns:\n",
    "        (float): Value\n",
    "    \"\"\"\n",
    "    h=b-a\n",
    "    return (b-x)/h\n",
    "\n",
    "def phi_1P1(x,a,b):\n",
    "    h=b-a\n",
    "    return (x-a)/h\n",
    "\n",
    "def phi_0P2(x,a,b):\n",
    "    h=b-a\n",
    "    MP=(b+a)/2\n",
    "    return ((x-MP) * (x-b))/((a-MP) * (a-b))\n",
    "\n",
    "def phi_05P2(x,a,b):\n",
    "    h=b-a\n",
    "    MP=(b+a)/2\n",
    "    return ((x-a) * (x-b))/((MP-a) * (MP-b))\n",
    "\n",
    "def phi_1P2(x,a,b):\n",
    "    h=b-a\n",
    "    MP=(b+a)/2\n",
    "    return ((x-MP) * (x-a))/((b-MP) * (b-a))\n"
   ]
  },
  {
   "cell_type": "code",
   "execution_count": 6,
   "metadata": {},
   "outputs": [
    {
     "name": "stdout",
     "output_type": "stream",
     "text": [
      "[0.         0.00016667 0.00033333 0.0015     0.00133333 0.00416667\n",
      " 0.003      0.00816667 0.00533333 0.0135     0.00833333 0.02016667\n",
      " 0.012      0.02816667 0.01633333 0.0375     0.02133333 0.04816667\n",
      " 0.027      0.06016667 0.01666667]\n"
     ]
    }
   ],
   "source": [
    "s=1\n",
    "p=2\n",
    "n=11\n",
    "mesh = np.linspace(0,1,n)\n",
    "def testFunction(x):\n",
    "    return x**2\n",
    "\n",
    "\n",
    "\n",
    "\n",
    "def loadVector1D(mesh, p, func, s):\n",
    "     \"\"\" function that creates load vector\n",
    "\n",
    "    Args:\n",
    "        mesh (1D array): grid of omega\n",
    "        p (int): linear(1) or quadratic(2) basis function\n",
    "        func (function): function we use the functional on: F(func)\n",
    "        s (int): What integration method we will use (Gaussian-Legendre quadrature or Gaussian-Lobatto quadrature)  \n",
    "    Returns:\n",
    "        loadvector (array): load vector for given problem \n",
    "     \"\"\"     \n",
    "     if(p==1):\n",
    "          \n",
    "          def func0(x,a,b):\n",
    "               return phi_0P1(x,a,b)*func(x)\n",
    "     \n",
    "          def func1(x,a,b):\n",
    "               return phi_1P1(x,a,b)*func(x)\n",
    "          \n",
    "          loadVector = np.zeros(len(mesh))\n",
    "\n",
    "          for i in range(1,len(mesh)):\n",
    "               I1 = computeIntegral1D(mesh[i-1],mesh[i], func0, s,)\n",
    "               I2 = computeIntegral1D(mesh[i-1],mesh[i], func1, s)\n",
    "               loadVector[i-1] = loadVector[i-1] + I1\n",
    "               loadVector[i] = loadVector[i] + I2\n",
    "          \n",
    "     elif(p==2):\n",
    "          def func0(x,a,b):\n",
    "               return phi_0P2(x,a,b)*func(x)\n",
    "     \n",
    "          def func1(x,a,b):\n",
    "               return phi_1P2(x,a,b)*func(x)\n",
    "          \n",
    "          def func05(x,a,b):\n",
    "               return phi_05P2(x,a,b)*func(x)\n",
    "          \n",
    "          \n",
    "          m = len(mesh)\n",
    "          NewMesh = np.linspace(0,1,2*m-1)\n",
    "          loadVector = np.zeros(2*m-1)\n",
    "          \n",
    "          for i in range(0, m-1):\n",
    "               I05 = computeIntegral1D(NewMesh[2*i],NewMesh[2*(i+1)], func05, s)\n",
    "               I1 = computeIntegral1D(NewMesh[2*i],NewMesh[2*(i+1)], func0, s)\n",
    "               I2 = computeIntegral1D(NewMesh[2*i],NewMesh[2*(i+1)], func1, s)\n",
    "               \n",
    "               loadVector[2*i]+=I1\n",
    "               loadVector[2*i+1]+=I05\n",
    "               loadVector[2*(i+1)]+=I2\n",
    "               \n",
    "     return loadVector\n",
    "\n",
    "print(loadVector1D(mesh, p, testFunction, s))"
   ]
  },
  {
   "cell_type": "markdown",
   "metadata": {},
   "source": [
    "### 1.3"
   ]
  },
  {
   "cell_type": "markdown",
   "metadata": {},
   "source": [
    "We are asked to implement a function loadMatrix1DLinear that assembles the the stifness matrix. The function should take the following input: \n",
    "\n",
    "* mesh: a list/array containing the nodes of the mesh $\\mathcal{T_h}$,\n",
    "* s : the type of Gaussian quadrature to approximate the needed integrals.\n",
    "\n",
    "and outputs: \n",
    "* the matrix A $\\in \\mathbb{R}^{(n+1)(n+1)}$ \n",
    "\n",
    "We begin by creating a function that solves this for the case $V^1_h$."
   ]
  },
  {
   "cell_type": "code",
   "execution_count": 7,
   "metadata": {},
   "outputs": [],
   "source": [
    "def Dphi_0P1(x,a,b):\n",
    "    \"\"\"derivative of phi_0 for linear basis functions\n",
    "\n",
    "    Args:\n",
    "        x (float): value\n",
    "        a (float): start point for basis-function\n",
    "        b (float): end of basis-function \n",
    "\n",
    "    Returns:\n",
    "        (float): Value\n",
    "    \"\"\"\n",
    "    h=b-a\n",
    "    return -1/h\n",
    "\n",
    "def Dphi_1P1(x,a,b):\n",
    "    h=b-a\n",
    "    return 1/h\n",
    "\n",
    "def Dphi_0P2(x,a,b):\n",
    "    MP = (b+a)/2\n",
    "    return (2*x-MP-a)/((a-MP) * ( a-b))\n",
    "\n",
    "def Dphi_05P2(x,a,b):\n",
    "    MP = (b+a)/2\n",
    "    return (2*x - a -b) / ((MP-a)*(MP-b))\n",
    "\n",
    "def Dphi_1P2(x,a,b):\n",
    "    MP = (b+a)/2\n",
    "    return (2*x-MP-b) / ((b-MP)*(b-a)) \n",
    "\n",
    "#1D functions\n",
    "def func00P1(x,a,b):\n",
    "    return Dphi_0P1(x,a,b) * Dphi_0P1(x,a,b) + phi_0P1(x,a,b) * phi_0P1(x,a,b)\n",
    "def func01P1(x,a,b):\n",
    "    return Dphi_0P1(x, a,b) * Dphi_1P1(x,a,b) + phi_0P1(x,a,b)*phi_1P1(x,a,b)\n",
    "def func11P1(x,a,b):\n",
    "    return Dphi_1P1(x,a,b) * Dphi_1P1(x,a,b) + phi_1P1(x,a,b)*phi_1P1(x,a,b)\n",
    "\n",
    "\n",
    "#2D functions\n",
    "def func00P2(x,a,b):\n",
    "    return Dphi_0P2(x,a,b)*Dphi_0P2(x,a,b) + phi_0P2(x,a,b) * phi_0P2(x,a,b)\n",
    "\n",
    "def func005P2(x,a,b):\n",
    "    return Dphi_0P2(x,a,b)*Dphi_05P2(x,a,b) + phi_0P2(x,a,b) * phi_05P2(x,a,b)\n",
    "\n",
    "def func01P2(x,a,b):\n",
    "    return Dphi_0P2(x, a,b)*Dphi_1P2(x,a,b) + phi_0P2(x,a,b)*phi_1P2(x,a,b)\n",
    "\n",
    "def func050P2(x,a,b):\n",
    "    return Dphi_05P2(x,a,b)*Dphi_0P2(x,a,b) + phi_05P2(x,a,b) * phi_0P2(x,a,b)\n",
    "def func0505P2(x,a,b):\n",
    "    return Dphi_05P2(x,a,b)*Dphi_05P2(x,a,b) + phi_05P2(x,a,b) * phi_05P2(x,a,b)\n",
    "def func051P2(x,a,b):\n",
    "    return Dphi_05P2(x,a,b)*Dphi_1P2(x,a,b) + phi_05P2(x,a,b)*phi_1P2(x,a,b)\n",
    "\n",
    "def func10P2(x,a,b):\n",
    "    return Dphi_1P2(x,a,b)*Dphi_0P2(x,a,b) + phi_1P2(x,a,b) * phi_0P2(x,a,b)\n",
    "def func105P2(x,a,b):\n",
    "    return Dphi_1P2(x,a,b)*Dphi_05P2(x,a,b) + phi_1P2(x,a,b) * phi_05P2(x,a,b)\n",
    "def func11P2(x,a,b):\n",
    "    return Dphi_1P2(x,a,b)*Dphi_1P2(x,a,b) + phi_1P2(x,a,b)*phi_1P2(x,a,b)\n",
    "\n"
   ]
  },
  {
   "cell_type": "markdown",
   "metadata": {},
   "source": [
    "#### Task 1"
   ]
  },
  {
   "cell_type": "code",
   "execution_count": 8,
   "metadata": {},
   "outputs": [
    {
     "name": "stdout",
     "output_type": "stream",
     "text": [
      "[[ 4.08333333 -3.95833333  0.          0.          0.        ]\n",
      " [-3.95833333  8.16666667 -3.95833333  0.          0.        ]\n",
      " [ 0.         -3.95833333  8.16666667 -3.95833333  0.        ]\n",
      " [ 0.          0.         -3.95833333  8.16666667 -3.95833333]\n",
      " [ 0.          0.          0.         -3.95833333  4.08333333]]\n"
     ]
    }
   ],
   "source": [
    "s=0\n",
    "n=5\n",
    "mesh = np.linspace(0,1,n)\n",
    "\n",
    "def loadMatrix1DLinear(mesh, s):\n",
    "    A = np.zeros((n,n))\n",
    "    for i in range(1,n):\n",
    "        I1 = computeIntegral1D(mesh[i-1],mesh[i], func00P1, s)\n",
    "        I2 = computeIntegral1D(mesh[i-1], mesh[i], func01P1, s)\n",
    "        I3 = computeIntegral1D(mesh[i-1], mesh[i], func11P1, s)\n",
    "        \n",
    "        A[i-1,i-1] += I1\n",
    "        A[i-1,i] += I2\n",
    "        A[i,i-1] += I2\n",
    "        A[i,i] += I3 \n",
    "        \n",
    "    return(A)\n",
    "\n",
    "print(loadMatrix1DLinear(mesh,s))"
   ]
  },
  {
   "cell_type": "markdown",
   "metadata": {},
   "source": [
    "#### Task 2"
   ]
  },
  {
   "cell_type": "code",
   "execution_count": 9,
   "metadata": {},
   "outputs": [
    {
     "name": "stdout",
     "output_type": "stream",
     "text": [
      "[[ 4.75       -5.33333333  0.66666667  0.          0.        ]\n",
      " [-5.33333333 11.         -5.33333333  0.          0.        ]\n",
      " [ 0.66666667 -5.33333333  9.5        -5.33333333  0.66666667]\n",
      " [ 0.          0.         -5.33333333 11.         -5.33333333]\n",
      " [ 0.          0.          0.66666667 -5.33333333  4.75      ]]\n"
     ]
    }
   ],
   "source": [
    "s=1\n",
    "n=3\n",
    "mesh = np.linspace(0,1,n)\n",
    "\n",
    "def loadMatrix1DQuadratic(mesh, s):\n",
    "    NewMesh = np.linspace(0,1,2*len(mesh)-1)\n",
    "    A = np.zeros((len(NewMesh),len(NewMesh)))\n",
    "    for i in range(0,n-1):\n",
    "        \n",
    "        I00 = computeIntegral1D(NewMesh[2*(i)],NewMesh[2*(i+1)], func00P2, s)\n",
    "        I005 = computeIntegral1D(NewMesh[2*(i)],NewMesh[2*(i+1)], func005P2, s)\n",
    "        I01 = computeIntegral1D(NewMesh[2*(i)],NewMesh[2*(i+1)], func01P2, s)\n",
    "        \n",
    "        I050 = computeIntegral1D(NewMesh[2*(i)],NewMesh[2*(i+1)], func050P2, s)\n",
    "        I0505 = computeIntegral1D(NewMesh[2*(i)],NewMesh[2*(i+1)], func0505P2, s)\n",
    "        I051 = computeIntegral1D(NewMesh[2*(i)],NewMesh[2*(i+1)], func051P2, s)\n",
    "            \n",
    "        I10 = computeIntegral1D(NewMesh[2*(i)],NewMesh[2*(i+1)], func10P2, s)\n",
    "        I105 = computeIntegral1D(NewMesh[2*(i)],NewMesh[2*(i+1)], func105P2, s)\n",
    "        I11 = computeIntegral1D(NewMesh[2*(i)],NewMesh[2*(i+1)], func11P2, s)\n",
    "        \n",
    "        A[2*i,2*i]+=I00\n",
    "        A[2*i,2*i+1]+=I005\n",
    "        A[2*i,2*(i+1)]+=I01\n",
    "        \n",
    "        A[2*i+1,2*i] += I050\n",
    "        A[2*i+1,2*i+1] += I0505\n",
    "        A[2*i+1,2*(i+1)] += I051\n",
    "        \n",
    "        A[2*(i+1),2*i] += I10\n",
    "        A[2*(i+1),2*i+1] += I105\n",
    "        A[2*(i+1),2*(i+1)] += I11\n",
    "    return A\n",
    "    \n",
    "print(loadMatrix1DQuadratic(mesh, s))"
   ]
  },
  {
   "cell_type": "markdown",
   "metadata": {},
   "source": [
    "### 1.4"
   ]
  },
  {
   "cell_type": "markdown",
   "metadata": {},
   "source": [
    "#### Task 1\n",
    "We are asked to create a function \"applyNeumann1D\" that applies the Nuemann boundry conditions for the problem. We have the following input: \n",
    "* stiffness matrix A\n",
    "*  load vector F (without boundryconditions)\n",
    "\n",
    "Output:\n",
    "* stiffness matrix A\n",
    "* load vector F (with boundryconditions)\n",
    "\n",
    "From the problem description we know the definition of $a(u,v)$ and $F(v)$.\n",
    "\n",
    "$$\n",
    "\\begin{align}\n",
    "a(u,v):=& \\int^1_0[u'(x)v'(x) + u(x)v(x)] dx \\qquad \\forall v\\in V\\\\\n",
    "F(v):=& \\int^1_0 f(x)v(x) dx + [v(1)-v(0)] \\qquad \\forall v\\in V \\\\\n",
    "\\end{align}\n",
    "$$\n",
    "\n",
    "When solving the problem we assume $u(x) = \\sum_{i=0} ^n \\phi_i(x)$, and we solve the problem: \n",
    "$$\n",
    "a(u,\\phi_j(x)) = F(\\phi_j(x)) \\\\\n",
    "\\Rightarrow \\sum_{i=0}^n u_i \\cdot a(\\phi_i(x), \\phi_j(x)) = \\int^1_0 f(x)\\phi_j(x) dx + [\\phi_j(1)-\\phi_j(0)]\n",
    "$$\n",
    "\n",
    "This leads us to the linear system: $Au=F$. From the definition of the $\\phi_j(x)$ functions we know that the only $\\phi_j$ where $\\phi_j(0)\\neq 0 \\vee phi_j(1) \\neq 0$ is for $j = \\{0,n\\}$. The values of the functions are described below:\n",
    "* $\\phi_0(0) = 1$\n",
    "* $\\phi_0(1) = 0$\n",
    "* $\\phi_n(0)=0$\n",
    "* $\\phi_n(1)=1$\n",
    "\n",
    "We can easily see that the only extra addition necessary for the neumann boundry condtions are to add 1 to $F_0$ and remove 1 from $F_n$"
   ]
  },
  {
   "cell_type": "code",
   "execution_count": 27,
   "metadata": {},
   "outputs": [],
   "source": [
    "def applyNeumann1D(A, F):\n",
    "    F[0]-=1\n",
    "    F[-1]+=1\n",
    "    return A, F"
   ]
  },
  {
   "cell_type": "code",
   "execution_count": 37,
   "metadata": {},
   "outputs": [
    {
     "data": {
      "image/png": "[encoded data removed]",
      "text/plain": [
       "<Figure size 432x288 with 1 Axes>"
      ]
     },
     "metadata": {
      "needs_background": "light"
     },
     "output_type": "display_data"
    },
    {
     "data": {
      "image/png": "[encoded data removed]",
      "text/plain": [
       "<Figure size 432x288 with 1 Axes>"
      ]
     },
     "metadata": {
      "needs_background": "light"
     },
     "output_type": "display_data"
    }
   ],
   "source": [
    "s=1\n",
    "n=11\n",
    "mesh = np.linspace(0,1,n)\n",
    "NewMesh = np.linspace(0,1,2*n-1)\n",
    "\n",
    "def rhs(x):\n",
    "    return x**3/3-x**2/2+x-2*x+1\n",
    "def excact(x):\n",
    "    return np.sin(4*np.pi*x)/(4*np.pi) #x**3/3-x**2/2+x\n",
    "def rhs(x):\n",
    "    return np.sin(4*np.pi*x)*(1/np.pi+np.pi*4)\n",
    "F = loadVector1D(mesh, 1, rhs, s)\n",
    "A = loadMatrix1DLinear(mesh,s)\n",
    "A1D,F1D = applyNeumann1D(A,F)\n",
    "solution1D = np.linalg.solve(A1D,F1D)\n",
    "\n",
    "F = loadVector1D(mesh, 2, rhs, s)\n",
    "A = loadMatrix1DQuadratic(mesh,s)\n",
    "A2D,F2D = applyNeumann1D(A,F)\n",
    "solution2D = np.linalg.solve(A2D,F2D)\n",
    "\n",
    "plt.figure()\n",
    "plt.grid()\n",
    "plt.plot(mesh, solution1D, label=\"Appox\")\n",
    "plt.plot(mesh, excact(mesh), \"--\", label =\"Excact\")\n",
    "plt.legend()\n",
    "plt.show()\n",
    "\n",
    "plt.figure()\n",
    "plt.grid()\n",
    "plt.plot(NewMesh, solution2D, label=\"Appox\")\n",
    "plt.plot(NewMesh, excact(NewMesh), \"--\", label=\"Excact\")\n",
    "plt.legend()\n",
    "plt.show()"
   ]
  },
  {
   "cell_type": "markdown",
   "metadata": {},
   "source": [
    "#### Task 2\n",
    "\n",
    "We are asked to create a function \"applyDirichletStrongly1D\" that takes as\n",
    "input the stiffness matrix A and the load vector F and returns them transformed so that the Dirichlet boundary conditions are applied strongly, i.e eliminating the boundary dofs imposing on them to have the correct value. This essensially means that we are removing the functions $\\phi_0(x)$ and $\\phi_n(x)$ from both the asembly matrix A and the load vector F. One of the advantages with this approaches, is that the matrix A now becomes symetric, which makes it easier to solve the linear system. \n",
    "\n",
    "Our main problem occurs at the interactions entries between $\\phi_0$ and $\\phi_j$. If we look at the example with the linear boundry functions, then the equation for $\\phi_1$ are described by the following: \n",
    "\n",
    "$$\n",
    "u_0 \\cdot a(\\phi_1,\\phi_0) + u_1 \\cdot a(\\phi_1,\\phi_1) + u_2 \\cdot a(\\phi_1,\\phi_2) = F(\\phi_1)\n",
    "$$\n",
    "\n",
    "However, when we look at the linear system $Au=F$ where we have removed the boundry dofs, we get the following equation: \n",
    "\n",
    "$$\n",
    "u_1 \\cdot a(\\phi_1,\\phi_1) + u_2 \\cdot a(\\phi_1,\\phi_2) = F(\\phi_1)\n",
    "$$\n",
    "\n",
    "To get the correct linear equation we have to subtract $a(\\phi_1,\\phi_0)$ from the right hand side.\n",
    "\n",
    "$$\n",
    "a(\\phi_1,\\phi_1) + a(\\phi_1,\\phi_2) = F(\\phi_1) - u_0 a(\\phi_1,\\phi_0)\n",
    "$$\n",
    "\n",
    "$$\n",
    "a(\\phi_1,\\phi_0) = \\int_0^1\\phi_0'(x)\\phi_1'(x)dx +\\int_0^1\\phi_0(x)\\phi_1(x)dx \n",
    "$$\n",
    "\n",
    "The same goes for the last equation.\n",
    "\n",
    "This results in us having to modify the first and last element of the load vector."
   ]
  },
  {
   "cell_type": "code",
   "execution_count": 18,
   "metadata": {},
   "outputs": [
    {
     "data": {
      "image/png": "[encoded data removed]",
      "text/plain": [
       "<Figure size 432x288 with 1 Axes>"
      ]
     },
     "metadata": {
      "needs_background": "light"
     },
     "output_type": "display_data"
    },
    {
     "data": {
      "image/png": "[encoded data removed]",
      "text/plain": [
       "<Figure size 432x288 with 1 Axes>"
      ]
     },
     "metadata": {
      "needs_background": "light"
     },
     "output_type": "display_data"
    }
   ],
   "source": [
    "p=2\n",
    "s=1\n",
    "n=5\n",
    "mesh = np.linspace(0,1,n)\n",
    "newMesh = np.linspace(0,1,2*n-1)\n",
    "\n",
    "def testFunction(x):\n",
    "    return x*(x-1)-2\n",
    "\n",
    "\n",
    "F1 = loadVector1D(mesh, 1, testFunction, s)\n",
    "A1 = loadMatrix1DLinear(mesh,s)\n",
    "solution1 = np.zeros(len(mesh))\n",
    "solution1[1:-1] += np.linalg.solve(A1[1:-1,1:-1],F1[1:-1])\n",
    "\n",
    "\n",
    "\n",
    "F2 = loadVector1D(mesh, 2, testFunction, s)\n",
    "A2 = loadMatrix1DQuadratic(mesh,s)\n",
    "solution2 = np.zeros(len(newMesh))\n",
    "solution2[1:-1] += np.linalg.solve(A2[1:-1,1:-1],F2[1:-1])\n",
    "\n",
    "\n",
    "plt.figure()\n",
    "plt.grid()\n",
    "plt.plot(mesh, solution1)\n",
    "plt.plot(mesh, testFunction(mesh)+2)\n",
    "plt.show()\n",
    "\n",
    "\n",
    "plt.figure()\n",
    "plt.grid()\n",
    "plt.plot(newMesh, solution2)\n",
    "plt.plot(newMesh, testFunction(newMesh)+2)\n",
    "plt.show()\n",
    "\n"
   ]
  },
  {
   "cell_type": "code",
   "execution_count": null,
   "metadata": {},
   "outputs": [],
   "source": []
  }
 ],
 "metadata": {
  "kernelspec": {
   "display_name": "base",
   "language": "python",
   "name": "python3"
  },
  "language_info": {
   "codemirror_mode": {
    "name": "ipython",
    "version": 3
   },
   "file_extension": ".py",
   "mimetype": "text/x-python",
   "name": "python",
   "nbconvert_exporter": "python",
   "pygments_lexer": "ipython3",
   "version": "3.9.7"
  }
 },
 "nbformat": 4,
 "nbformat_minor": 2
}
